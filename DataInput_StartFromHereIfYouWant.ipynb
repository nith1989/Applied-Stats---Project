{
 "cells": [
  {
   "cell_type": "code",
   "execution_count": 4,
   "metadata": {
    "collapsed": true
   },
   "outputs": [],
   "source": [
    "train = read.csv(\"data/train.csv\")\n",
    "test = read.csv(\"data/test.csv\")"
   ]
  },
  {
   "cell_type": "code",
   "execution_count": 3,
   "metadata": {
    "collapsed": false
   },
   "outputs": [
    {
     "data": {
      "text/plain": [
       "       Id           MSSubClass       MSZoning     LotFrontage    \n",
       " Min.   :   1.0   Min.   : 20.0   C (all):  10   Min.   : 21.00  \n",
       " 1st Qu.: 365.8   1st Qu.: 20.0   FV     :  65   1st Qu.: 59.00  \n",
       " Median : 730.5   Median : 50.0   RH     :  16   Median : 69.00  \n",
       " Mean   : 730.5   Mean   : 56.9   RL     :1151   Mean   : 70.05  \n",
       " 3rd Qu.:1095.2   3rd Qu.: 70.0   RM     : 218   3rd Qu.: 80.00  \n",
       " Max.   :1460.0   Max.   :190.0                  Max.   :313.00  \n",
       "                                                 NA's   :259     \n",
       "    LotArea        Street      Alley      LotShape  LandContour  Utilities   \n",
       " Min.   :  1300   Grvl:   6   Grvl:  50   IR1:484   Bnk:  63    AllPub:1459  \n",
       " 1st Qu.:  7554   Pave:1454   Pave:  41   IR2: 41   HLS:  50    NoSeWa:   1  \n",
       " Median :  9478               NA's:1369   IR3: 10   Low:  36                 \n",
       " Mean   : 10517                           Reg:925   Lvl:1311                 \n",
       " 3rd Qu.: 11602                                                              \n",
       " Max.   :215245                                                              \n",
       "                                                                             \n",
       "   LotConfig    LandSlope   Neighborhood   Condition1     Condition2  \n",
       " Corner : 263   Gtl:1382   NAmes  :225   Norm   :1260   Norm   :1445  \n",
       " CulDSac:  94   Mod:  65   CollgCr:150   Feedr  :  81   Feedr  :   6  \n",
       " FR2    :  47   Sev:  13   OldTown:113   Artery :  48   Artery :   2  \n",
       " FR3    :   4              Edwards:100   RRAn   :  26   PosN   :   2  \n",
       " Inside :1052              Somerst: 86   PosN   :  19   RRNn   :   2  \n",
       "                           Gilbert: 79   RRAe   :  11   PosA   :   1  \n",
       "                           (Other):707   (Other):  15   (Other):   2  \n",
       "   BldgType      HouseStyle   OverallQual      OverallCond      YearBuilt   \n",
       " 1Fam  :1220   1Story :726   Min.   : 1.000   Min.   :1.000   Min.   :1872  \n",
       " 2fmCon:  31   2Story :445   1st Qu.: 5.000   1st Qu.:5.000   1st Qu.:1954  \n",
       " Duplex:  52   1.5Fin :154   Median : 6.000   Median :5.000   Median :1973  \n",
       " Twnhs :  43   SLvl   : 65   Mean   : 6.099   Mean   :5.575   Mean   :1971  \n",
       " TwnhsE: 114   SFoyer : 37   3rd Qu.: 7.000   3rd Qu.:6.000   3rd Qu.:2000  \n",
       "               1.5Unf : 14   Max.   :10.000   Max.   :9.000   Max.   :2010  \n",
       "               (Other): 19                                                  \n",
       "  YearRemodAdd    RoofStyle       RoofMatl     Exterior1st   Exterior2nd \n",
       " Min.   :1950   Flat   :  13   CompShg:1434   VinylSd:515   VinylSd:504  \n",
       " 1st Qu.:1967   Gable  :1141   Tar&Grv:  11   HdBoard:222   MetalSd:214  \n",
       " Median :1994   Gambrel:  11   WdShngl:   6   MetalSd:220   HdBoard:207  \n",
       " Mean   :1985   Hip    : 286   WdShake:   5   Wd Sdng:206   Wd Sdng:197  \n",
       " 3rd Qu.:2004   Mansard:   7   ClyTile:   1   Plywood:108   Plywood:142  \n",
       " Max.   :2010   Shed   :   2   Membran:   1   CemntBd: 61   CmentBd: 60  \n",
       "                               (Other):   2   (Other):128   (Other):136  \n",
       "   MasVnrType    MasVnrArea     ExterQual ExterCond  Foundation  BsmtQual  \n",
       " BrkCmn : 15   Min.   :   0.0   Ex: 52    Ex:   3   BrkTil:146   Ex  :121  \n",
       " BrkFace:445   1st Qu.:   0.0   Fa: 14    Fa:  28   CBlock:634   Fa  : 35  \n",
       " None   :864   Median :   0.0   Gd:488    Gd: 146   PConc :647   Gd  :618  \n",
       " Stone  :128   Mean   : 103.7   TA:906    Po:   1   Slab  : 24   TA  :649  \n",
       " NA's   :  8   3rd Qu.: 166.0             TA:1282   Stone :  6   NA's: 37  \n",
       "               Max.   :1600.0                       Wood  :  3             \n",
       "               NA's   :8                                                   \n",
       " BsmtCond    BsmtExposure BsmtFinType1   BsmtFinSF1     BsmtFinType2\n",
       " Fa  :  45   Av  :221     ALQ :220     Min.   :   0.0   ALQ :  19   \n",
       " Gd  :  65   Gd  :134     BLQ :148     1st Qu.:   0.0   BLQ :  33   \n",
       " Po  :   2   Mn  :114     GLQ :418     Median : 383.5   GLQ :  14   \n",
       " TA  :1311   No  :953     LwQ : 74     Mean   : 443.6   LwQ :  46   \n",
       " NA's:  37   NA's: 38     Rec :133     3rd Qu.: 712.2   Rec :  54   \n",
       "                          Unf :430     Max.   :5644.0   Unf :1256   \n",
       "                          NA's: 37                      NA's:  38   \n",
       "   BsmtFinSF2        BsmtUnfSF       TotalBsmtSF      Heating     HeatingQC\n",
       " Min.   :   0.00   Min.   :   0.0   Min.   :   0.0   Floor:   1   Ex:741   \n",
       " 1st Qu.:   0.00   1st Qu.: 223.0   1st Qu.: 795.8   GasA :1428   Fa: 49   \n",
       " Median :   0.00   Median : 477.5   Median : 991.5   GasW :  18   Gd:241   \n",
       " Mean   :  46.55   Mean   : 567.2   Mean   :1057.4   Grav :   7   Po:  1   \n",
       " 3rd Qu.:   0.00   3rd Qu.: 808.0   3rd Qu.:1298.2   OthW :   2   TA:428   \n",
       " Max.   :1474.00   Max.   :2336.0   Max.   :6110.0   Wall :   4            \n",
       "                                                                           \n",
       " CentralAir Electrical     X1stFlrSF      X2ndFlrSF     LowQualFinSF    \n",
       " N:  95     FuseA:  94   Min.   : 334   Min.   :   0   Min.   :  0.000  \n",
       " Y:1365     FuseF:  27   1st Qu.: 882   1st Qu.:   0   1st Qu.:  0.000  \n",
       "            FuseP:   3   Median :1087   Median :   0   Median :  0.000  \n",
       "            Mix  :   1   Mean   :1163   Mean   : 347   Mean   :  5.845  \n",
       "            SBrkr:1334   3rd Qu.:1391   3rd Qu.: 728   3rd Qu.:  0.000  \n",
       "            NA's :   1   Max.   :4692   Max.   :2065   Max.   :572.000  \n",
       "                                                                        \n",
       "   GrLivArea     BsmtFullBath     BsmtHalfBath        FullBath    \n",
       " Min.   : 334   Min.   :0.0000   Min.   :0.00000   Min.   :0.000  \n",
       " 1st Qu.:1130   1st Qu.:0.0000   1st Qu.:0.00000   1st Qu.:1.000  \n",
       " Median :1464   Median :0.0000   Median :0.00000   Median :2.000  \n",
       " Mean   :1515   Mean   :0.4253   Mean   :0.05753   Mean   :1.565  \n",
       " 3rd Qu.:1777   3rd Qu.:1.0000   3rd Qu.:0.00000   3rd Qu.:2.000  \n",
       " Max.   :5642   Max.   :3.0000   Max.   :2.00000   Max.   :3.000  \n",
       "                                                                  \n",
       "    HalfBath       BedroomAbvGr    KitchenAbvGr   KitchenQual  TotRmsAbvGrd   \n",
       " Min.   :0.0000   Min.   :0.000   Min.   :0.000   Ex:100      Min.   : 2.000  \n",
       " 1st Qu.:0.0000   1st Qu.:2.000   1st Qu.:1.000   Fa: 39      1st Qu.: 5.000  \n",
       " Median :0.0000   Median :3.000   Median :1.000   Gd:586      Median : 6.000  \n",
       " Mean   :0.3829   Mean   :2.866   Mean   :1.047   TA:735      Mean   : 6.518  \n",
       " 3rd Qu.:1.0000   3rd Qu.:3.000   3rd Qu.:1.000               3rd Qu.: 7.000  \n",
       " Max.   :2.0000   Max.   :8.000   Max.   :3.000               Max.   :14.000  \n",
       "                                                                              \n",
       " Functional    Fireplaces    FireplaceQu   GarageType   GarageYrBlt  \n",
       " Maj1:  14   Min.   :0.000   Ex  : 24    2Types :  6   Min.   :1900  \n",
       " Maj2:   5   1st Qu.:0.000   Fa  : 33    Attchd :870   1st Qu.:1961  \n",
       " Min1:  31   Median :1.000   Gd  :380    Basment: 19   Median :1980  \n",
       " Min2:  34   Mean   :0.613   Po  : 20    BuiltIn: 88   Mean   :1979  \n",
       " Mod :  15   3rd Qu.:1.000   TA  :313    CarPort:  9   3rd Qu.:2002  \n",
       " Sev :   1   Max.   :3.000   NA's:690    Detchd :387   Max.   :2010  \n",
       " Typ :1360                               NA's   : 81   NA's   :81    \n",
       " GarageFinish   GarageCars      GarageArea     GarageQual  GarageCond \n",
       " Fin :352     Min.   :0.000   Min.   :   0.0   Ex  :   3   Ex  :   2  \n",
       " RFn :422     1st Qu.:1.000   1st Qu.: 334.5   Fa  :  48   Fa  :  35  \n",
       " Unf :605     Median :2.000   Median : 480.0   Gd  :  14   Gd  :   9  \n",
       " NA's: 81     Mean   :1.767   Mean   : 473.0   Po  :   3   Po  :   7  \n",
       "              3rd Qu.:2.000   3rd Qu.: 576.0   TA  :1311   TA  :1326  \n",
       "              Max.   :4.000   Max.   :1418.0   NA's:  81   NA's:  81  \n",
       "                                                                      \n",
       " PavedDrive   WoodDeckSF      OpenPorchSF     EnclosedPorch      X3SsnPorch    \n",
       " N:  90     Min.   :  0.00   Min.   :  0.00   Min.   :  0.00   Min.   :  0.00  \n",
       " P:  30     1st Qu.:  0.00   1st Qu.:  0.00   1st Qu.:  0.00   1st Qu.:  0.00  \n",
       " Y:1340     Median :  0.00   Median : 25.00   Median :  0.00   Median :  0.00  \n",
       "            Mean   : 94.24   Mean   : 46.66   Mean   : 21.95   Mean   :  3.41  \n",
       "            3rd Qu.:168.00   3rd Qu.: 68.00   3rd Qu.:  0.00   3rd Qu.:  0.00  \n",
       "            Max.   :857.00   Max.   :547.00   Max.   :552.00   Max.   :508.00  \n",
       "                                                                               \n",
       "  ScreenPorch        PoolArea        PoolQC       Fence      MiscFeature\n",
       " Min.   :  0.00   Min.   :  0.000   Ex  :   2   GdPrv:  59   Gar2:   2  \n",
       " 1st Qu.:  0.00   1st Qu.:  0.000   Fa  :   2   GdWo :  54   Othr:   2  \n",
       " Median :  0.00   Median :  0.000   Gd  :   3   MnPrv: 157   Shed:  49  \n",
       " Mean   : 15.06   Mean   :  2.759   NA's:1453   MnWw :  11   TenC:   1  \n",
       " 3rd Qu.:  0.00   3rd Qu.:  0.000               NA's :1179   NA's:1406  \n",
       " Max.   :480.00   Max.   :738.000                                       \n",
       "                                                                        \n",
       "    MiscVal             MoSold           YrSold        SaleType   \n",
       " Min.   :    0.00   Min.   : 1.000   Min.   :2006   WD     :1267  \n",
       " 1st Qu.:    0.00   1st Qu.: 5.000   1st Qu.:2007   New    : 122  \n",
       " Median :    0.00   Median : 6.000   Median :2008   COD    :  43  \n",
       " Mean   :   43.49   Mean   : 6.322   Mean   :2008   ConLD  :   9  \n",
       " 3rd Qu.:    0.00   3rd Qu.: 8.000   3rd Qu.:2009   ConLI  :   5  \n",
       " Max.   :15500.00   Max.   :12.000   Max.   :2010   ConLw  :   5  \n",
       "                                                    (Other):   9  \n",
       " SaleCondition    SalePrice     \n",
       " Abnorml: 101   Min.   : 34900  \n",
       " AdjLand:   4   1st Qu.:129975  \n",
       " Alloca :  12   Median :163000  \n",
       " Family :  20   Mean   :180921  \n",
       " Normal :1198   3rd Qu.:214000  \n",
       " Partial: 125   Max.   :755000  \n",
       "                                "
      ]
     },
     "metadata": {},
     "output_type": "display_data"
    }
   ],
   "source": [
    "summary(train)"
   ]
  },
  {
   "cell_type": "code",
   "execution_count": 5,
   "metadata": {
    "collapsed": false
   },
   "outputs": [
    {
     "data": {
      "image/png": "[encoded data removed]",
      "text/plain": [
       "plot without title"
      ]
     },
     "metadata": {},
     "output_type": "display_data"
    }
   ],
   "source": [
    "plot(train$SalePrice, train$YrSold)"
   ]
  },
  {
   "cell_type": "code",
   "execution_count": 1,
   "metadata": {
    "collapsed": false
   },
   "outputs": [
    {
     "ename": "ERROR",
     "evalue": "Error in library(\"ggplot2\"): there is no package called ‘ggplot2’\n",
     "output_type": "error",
     "traceback": [
      "Error in library(\"ggplot2\"): there is no package called ‘ggplot2’\nTraceback:\n",
      "1. library(\"ggplot2\")",
      "2. stop(txt, domain = NA)"
     ]
    }
   ],
   "source": [
    "library(\"ggplot2\")"
   ]
  },
  {
   "cell_type": "code",
   "execution_count": null,
   "metadata": {
    "collapsed": true
   },
   "outputs": [],
   "source": [
    "    "
   ]
  }
 ],
 "metadata": {
  "kernelspec": {
   "display_name": "R",
   "language": "R",
   "name": "ir"
  },
  "language_info": {
   "codemirror_mode": "r",
   "file_extension": ".r",
   "mimetype": "text/x-r-source",
   "name": "R",
   "pygments_lexer": "r",
   "version": "3.2.3"
  }
 },
 "nbformat": 4,
 "nbformat_minor": 1
}
